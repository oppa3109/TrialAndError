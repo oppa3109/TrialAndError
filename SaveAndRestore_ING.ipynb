{
 "cells": [
  {
   "cell_type": "markdown",
   "metadata": {},
   "source": [
    "## Save / Restore : 최종 저장 시점인 epoch 값(global_step)도 저장/복원해보자\n",
    "\n",
    "참고 : http://stackoverflow.com/questions/36113090/tensorflow-get-the-global-step-when-restoring-checkpoints\n",
    "\n",
    "보완할 부분 : 저장 파일명(XXX : global_step) model-XXX.cptk.data-00000-of-00001에서 data-00000-of-00001 부분[shard 정보] 탐구)\n",
    "\n",
    "또다른 구현 사례(별도 변수로 처리) : https://github.com/hunkim/DeepLearningZeroToAll/blob/master/lab-13-3-mnist_save_restore.py"
   ]
  },
  {
   "cell_type": "code",
   "execution_count": 1,
   "metadata": {
    "collapsed": true
   },
   "outputs": [],
   "source": [
    "import tensorflow as tf\n",
    "import os"
   ]
  },
  {
   "cell_type": "code",
   "execution_count": 2,
   "metadata": {
    "collapsed": false
   },
   "outputs": [],
   "source": [
    "LOG_DIR = './SaveAndRestore_log'    # modulename_log 형태로\n",
    "LOG_PERIOD = 1000    # LOG를 남기는 반복 시점 (대개 epoch와 연계)"
   ]
  },
  {
   "cell_type": "code",
   "execution_count": 3,
   "metadata": {
    "collapsed": true
   },
   "outputs": [],
   "source": [
    "epoch_start = 0\n",
    "epoch_end = 10000\n",
    "\n",
    "# save/restore시 처리하기 위한 variable 선언  : name='global_step'\n",
    "global_step = tf.Variable(epoch_start, name='global_step', trainable=False)"
   ]
  },
  {
   "cell_type": "markdown",
   "metadata": {},
   "source": [
    "### sample로 linear_regression 수행 (optimizer.minimize()의 global_step 추가)\n",
    "참조 : https://github.com/hunkim/DeepLearningZeroToAll/blob/master/lab-02-1-linear_regression.py"
   ]
  },
  {
   "cell_type": "code",
   "execution_count": 4,
   "metadata": {
    "collapsed": false
   },
   "outputs": [],
   "source": [
    "# X and Y data\n",
    "x_train = [1, 2, 3]\n",
    "y_train = [1, 2, 3]\n",
    "\n",
    "# Try to find values for W and b to compute y_data = x_data * W + b\n",
    "# We know that W should be 1 and b should be 0\n",
    "# But let TensorFlow figure it out\n",
    "W = tf.Variable(tf.random_normal([1]), name='weight')\n",
    "b = tf.Variable(tf.random_normal([1]), name='bias')\n",
    "\n",
    "# Our hypothesis XW+b\n",
    "hypothesis = x_train * W + b\n",
    "\n",
    "# cost/loss function\n",
    "cost = tf.reduce_mean(tf.square(hypothesis - y_train))\n",
    "\n",
    "# Minimize\n",
    "optimizer = tf.train.GradientDescentOptimizer(learning_rate=0.01)\n",
    "train = optimizer.minimize(cost, global_step=global_step)"
   ]
  },
  {
   "cell_type": "code",
   "execution_count": 5,
   "metadata": {
    "collapsed": false
   },
   "outputs": [
    {
     "name": "stdout",
     "output_type": "stream",
     "text": [
      "Successfully loaded: ./SaveAndRestore_log\\model.ckpt-4000\n",
      "epoch_start:  4001\n",
      "epoch:  4100\n",
      "epoch:  4200\n",
      "epoch:  4300\n",
      "epoch:  4400\n",
      "epoch:  4500\n",
      "epoch:  4600\n",
      "epoch:  4700\n",
      "epoch:  4800\n",
      "epoch:  4900\n",
      "epoch:  5000\n",
      "Saving network...\n",
      "Saved\n",
      "epoch:  5100\n",
      "epoch:  5200\n",
      "epoch:  5300\n",
      "epoch:  5400\n",
      "epoch:  5500\n",
      "epoch:  5600\n",
      "epoch:  5700\n",
      "epoch:  5800\n",
      "epoch:  5900\n",
      "epoch:  6000\n",
      "Saving network...\n",
      "Saved\n",
      "epoch:  6100\n",
      "epoch:  6200\n",
      "epoch:  6300\n",
      "epoch:  6400\n",
      "epoch:  6500\n",
      "epoch:  6600\n",
      "epoch:  6700\n",
      "epoch:  6800\n",
      "epoch:  6900\n",
      "epoch:  7000\n",
      "Saving network...\n",
      "Saved\n",
      "epoch:  7100\n",
      "epoch:  7200\n",
      "epoch:  7300\n",
      "epoch:  7400\n",
      "epoch:  7500\n",
      "epoch:  7600\n",
      "epoch:  7700\n",
      "epoch:  7800\n",
      "epoch:  7900\n",
      "epoch:  8000\n",
      "Saving network...\n",
      "Saved\n",
      "epoch:  8100\n",
      "epoch:  8200\n",
      "epoch:  8300\n",
      "epoch:  8400\n",
      "epoch:  8500\n",
      "epoch:  8600\n",
      "epoch:  8700\n",
      "epoch:  8800\n",
      "epoch:  8900\n",
      "epoch:  9000\n",
      "Saving network...\n",
      "Saved\n",
      "epoch:  9100\n",
      "epoch:  9200\n",
      "epoch:  9300\n",
      "epoch:  9400\n",
      "epoch:  9500\n",
      "epoch:  9600\n",
      "epoch:  9700\n",
      "epoch:  9800\n",
      "epoch:  9900\n",
      "epoch:  10000\n",
      "Saving network...\n",
      "Saved\n"
     ]
    }
   ],
   "source": [
    "init = tf.global_variables_initializer()\n",
    "\n",
    "with tf.Session() as sess:\n",
    "    sess.run(init)\n",
    "\n",
    "    # Saver and Restore\n",
    "    saver = tf.train.Saver()\n",
    "    checkpoint = tf.train.get_checkpoint_state(LOG_DIR)\n",
    "    if checkpoint and checkpoint.model_checkpoint_path:\n",
    "        try:\n",
    "            saver.restore(sess, checkpoint.model_checkpoint_path)\n",
    "            print(\"Successfully loaded:\", checkpoint.model_checkpoint_path)\n",
    "            # resoter 시 epoch의 시작 위치를 restore한 값으로 초기화 (방법1/방법2 중 원하는 것으로 사용)\n",
    "            # 방법1\n",
    "#            epoch_start = sess.run(global_step)\n",
    "            # 방법2\n",
    "            epoch_start = sess.run(tf.contrib.framework.get_global_step())\n",
    "            print(\"epoch_start: \", epoch_start)\n",
    "        except:\n",
    "            print(\"Error on loading old network weights\")\n",
    "    else:\n",
    "        print(\"Could not find old network weights\")\n",
    "\n",
    "    for i in range(epoch_start, epoch_end+1):\n",
    "        sess.run(train)\n",
    "\n",
    "        # 열심히 학습하자\n",
    "        if i % 100 == 0:\n",
    "            print(\"epoch: \", i)\n",
    "\n",
    "        if i > 0 and i % LOG_PERIOD == 0:\n",
    "            print(\"Saving network...\")\n",
    "            if not os.path.exists(LOG_DIR):\n",
    "                os.makedirs(LOG_DIR)\n",
    "            # 저장시 global_step 값을 현재의 epoch 값으로 설정\n",
    "            saver.save(sess, os.path.join(LOG_DIR, \"model.ckpt\"), global_step=i)\n",
    "            print(\"Saved\")"
   ]
  },
  {
   "cell_type": "code",
   "execution_count": null,
   "metadata": {
    "collapsed": true
   },
   "outputs": [],
   "source": []
  },
  {
   "cell_type": "code",
   "execution_count": null,
   "metadata": {
    "collapsed": true
   },
   "outputs": [],
   "source": []
  }
 ],
 "metadata": {
  "anaconda-cloud": {},
  "kernelspec": {
   "display_name": "Python [default]",
   "language": "python",
   "name": "python3"
  },
  "language_info": {
   "codemirror_mode": {
    "name": "ipython",
    "version": 3
   },
   "file_extension": ".py",
   "mimetype": "text/x-python",
   "name": "python",
   "nbconvert_exporter": "python",
   "pygments_lexer": "ipython3",
   "version": "3.5.2"
  }
 },
 "nbformat": 4,
 "nbformat_minor": 1
}
