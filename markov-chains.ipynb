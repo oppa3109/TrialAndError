{
 "cells": [
  {
   "cell_type": "markdown",
   "metadata": {},
   "source": [
    "### https://www.countbayesie.com/blog/2015/11/21/the-black-friday-puzzle-understanding-markov-chains"
   ]
  },
  {
   "cell_type": "markdown",
   "metadata": {},
   "source": [
    "#### Markov Chains를 이용하여 블랙 프라이데이 퍼즐을 푸는 내용입니다. 간략하게 소개하니 환상적인 원문의 글 및 그림을 보면 더 쉽게 이해하실겁니다.\n",
    "베이즈 서점이 크게 5개(Books, Children's Books, Puzzles, Toys, and Music)의 코너로 되어 있고 각 코너별로 고객들이 머물거나 다른 코너로 이동하는 확률(Transition Probability)이 주어졌을 떄 고객 응대 직원 한명이 100명의 고객을 담당하는 것이 가장 좋다고 할 떄 각 코너별 필요한 직원의 수를 예상해 보는 것입니다.\n",
    "마로코프 체인을 아는 분이라면 초기 고객 분포가 어떻든지 간에 결국은 각 코너별 고객의 분포가 동일해진다는 것인데, 이 부분을 매트릭스 연산으로 확인해 봤고, 이 값과 eigenvalue 및 eigenvector와의 연관성도 보여주는데, 아직 이 부분은 완전한 이해가 안되어 3Blue1Brown(3청1갈) 강의로 조금씩 이해도를 올려야 겠습니다.\n",
    "    \n",
    "3Blue1Brown(3청1갈) 강의 - eigenvalues and eigenvectors : https://www.youtube.com/watch?v=PFDu9oVAE-g"
   ]
  },
  {
   "cell_type": "code",
   "execution_count": 1,
   "metadata": {
    "collapsed": true
   },
   "outputs": [],
   "source": [
    "import numpy as np"
   ]
  },
  {
   "cell_type": "markdown",
   "metadata": {},
   "source": [
    "#### 5개 코너별 Transition Probability 값"
   ]
  },
  {
   "cell_type": "code",
   "execution_count": 2,
   "metadata": {
    "collapsed": true
   },
   "outputs": [],
   "source": [
    "markov_section5 = [[0.5, 0.2, 0.15, 0.1, 0.05], \\\n",
    "            [0.1, 0.3, 0.2, 0.3, 0.1], \\\n",
    "            [0.1, 0.2, 0.3, 0.2, 0.2], \\\n",
    "            [0.05, 0.15, 0.3, 0.4, 0.1], \\\n",
    "            [0.2, 0.1, 0.1, 0.1, 0.5]]"
   ]
  },
  {
   "cell_type": "markdown",
   "metadata": {},
   "source": [
    "#### Books 코너의 Transition Probability 값"
   ]
  },
  {
   "cell_type": "code",
   "execution_count": 18,
   "metadata": {
    "collapsed": false
   },
   "outputs": [
    {
     "data": {
      "text/html": [
       "<img src=\"https://static1.squarespace.com/static/54e50c15e4b058fc6806d068/t/5650d15ce4b083936d46ea05/1459882414039/books+simple+transition+graph.png?format=750w\"/>"
      ],
      "text/plain": [
       "<IPython.core.display.Image object>"
      ]
     },
     "execution_count": 18,
     "metadata": {},
     "output_type": "execute_result"
    }
   ],
   "source": [
    "from IPython.display import Image\n",
    "Image(url='https://static1.squarespace.com/static/54e50c15e4b058fc6806d068/t/5650d15ce4b083936d46ea05/1459882414039/books+simple+transition+graph.png?format=750w')"
   ]
  },
  {
   "cell_type": "markdown",
   "metadata": {},
   "source": [
    "#### 모든 코너의 Transition Probability 값"
   ]
  },
  {
   "cell_type": "code",
   "execution_count": 19,
   "metadata": {
    "collapsed": false
   },
   "outputs": [
    {
     "data": {
      "text/html": [
       "<img src=\"https://static1.squarespace.com/static/54e50c15e4b058fc6806d068/t/5650d16ee4b033f56d20ae6b/1459882428797/markov+chain+graph+all.png?format=1000w\"/>"
      ],
      "text/plain": [
       "<IPython.core.display.Image object>"
      ]
     },
     "execution_count": 19,
     "metadata": {},
     "output_type": "execute_result"
    }
   ],
   "source": [
    "from IPython.display import Image\n",
    "Image(url='https://static1.squarespace.com/static/54e50c15e4b058fc6806d068/t/5650d16ee4b033f56d20ae6b/1459882428797/markov+chain+graph+all.png?format=1000w')"
   ]
  },
  {
   "cell_type": "code",
   "execution_count": 3,
   "metadata": {
    "collapsed": true
   },
   "outputs": [],
   "source": [
    "# 코너별 초기 고객수\n",
    "people_distribution1 = [100.0, 0.0, 0.0, 0.0, 0.0]\n",
    "people_distribution2 = [0.0, 0.0, 0.0, 0.0, 100.0]\n",
    "people_distribution3 = [0.0, 0.0, 100.0, 0.0, 0.0]\n",
    "people_distribution4 = [20.0, 20.0, 20.0, 20.0, 20.0]"
   ]
  },
  {
   "cell_type": "code",
   "execution_count": 4,
   "metadata": {
    "collapsed": false,
    "scrolled": true
   },
   "outputs": [
    {
     "name": "stdout",
     "output_type": "stream",
     "text": [
      "0  :  [ 50.  20.  15.  10.   5.]\n",
      "1  :  [ 30.   21.   19.5  18.5  11. ]\n",
      "2  :  [ 22.175  20.075  21.2    21.7    14.85 ]\n",
      "3  :  [ 19.27     19.4375   21.69625  22.645    16.95125]\n",
      "4  :  [ 18.270875  19.116375  21.7755    22.850625  17.986625]\n",
      "5  :  [ 17.96448125  18.97044375  21.75040625  22.8560125   18.45865625]\n",
      "6  :  [ 17.8888575   18.90837813  21.71655219  22.82593313  18.66027906]\n",
      "7  :  [ 17.88027425  18.88351325  21.69377775  22.80111078  18.74132397]\n",
      "8  :  [ 17.88618656  18.87416339  21.68134274  22.78641366  18.77189365]\n",
      "9  :  [ 17.89234331  18.87090629  21.67527695  22.77889105  18.78258241]\n",
      "10  :  [ 17.89625101  18.86988784  21.67254139  22.77537627  18.78594349]\n",
      "11  :  [ 17.89832594  18.86962562  21.67138487  22.77384459  18.78681899]\n",
      "12  :  [ 17.89932005  18.86958843  21.67092475  22.77321699  18.78694978]\n",
      "13  :  [ 17.89976215  18.86960302  21.67075319  22.77297526  18.78690639]\n",
      "14  :  [ 17.89994673  18.8696209   21.6706941   22.7728885   18.78684977]\n",
      "15  :  [ 17.90001925  18.86963269  21.67067595  22.77286014  18.78681198]\n",
      "16  :  [ 17.90004589  18.86963906  21.67067145  22.77285217  18.78679142]\n",
      "17  :  [ 17.90005489  18.86964216  21.67067093  22.77285061  18.78678142]\n",
      "18  :  [ 17.90005757  18.86964354  21.67067127  22.77285071  18.78677692]\n",
      "19  :  [ 17.90005818  18.86964413  21.67067163  22.77285105  18.78677501]\n"
     ]
    }
   ],
   "source": [
    "# 첫번쨰 고객 분포를 20단계까지 돌림 (기승전마르코프)\n",
    "for i in range(20):\n",
    "    people_distribution1 = np.dot(np.transpose(markov_section5), people_distribution1)\n",
    "    print(i, \" : \", people_distribution1)"
   ]
  },
  {
   "cell_type": "code",
   "execution_count": 5,
   "metadata": {
    "collapsed": false
   },
   "outputs": [
    {
     "name": "stdout",
     "output_type": "stream",
     "text": [
      "0  :  [ 19.  19.  21.  22.  19.]\n",
      "1  :  [ 18.4   18.9   21.45  22.5   18.75]\n",
      "2  :  [ 18.11   18.89   21.6    22.675  18.725]\n",
      "3  :  [ 17.98275  18.88275  21.6495   22.7405   18.7445 ]\n",
      "4  :  [ 17.930525   18.8768     21.6654125  22.76365    18.7636125]\n",
      "5  :  [ 17.91038875  18.87313625  21.67001875  22.77099625  18.77546   ]\n",
      "6  :  [ 17.90315169  18.87121781  21.67103606  22.772928    18.78166644]\n",
      "7  :  [ 17.90078092  18.87030874  21.67107218  22.77322557  18.7846126 ]\n",
      "8  :  [ 17.90011235  18.86990834  21.67092947  22.77313664  18.78591321]\n",
      "9  :  [ 17.89997943  18.86974268  21.67080967  22.7730156   18.78645261]\n",
      "10  :  [ 17.89998625  18.86967823  21.67073829  22.77293418  18.78666304]\n",
      "11  :  [ 17.9000141   18.86965481  21.67070163  22.77288973  18.78673973]\n",
      "12  :  [ 17.90003513  18.86964702  21.67068446  22.77286804  18.78676535]\n",
      "13  :  [ 17.90004718  18.86964476  21.67067696  22.77285826  18.78677283]\n",
      "14  :  [ 17.90005324  18.86964428  21.67067388  22.77285413  18.78677447]\n",
      "15  :  [ 17.90005604  18.86964427  21.67067269  22.77285248  18.78677451]\n",
      "16  :  [ 17.90005724  18.86964435  21.67067226  22.77285187  18.78677427]\n",
      "17  :  [ 17.90005773  18.86964441  21.67067212  22.77285166  18.78677407]\n",
      "18  :  [ 17.90005792  18.86964445  21.67067208  22.77285159  18.78677396]\n",
      "19  :  [ 17.90005798  18.86964447  21.67067208  22.77285158  18.78677389]\n"
     ]
    }
   ],
   "source": [
    "# 네번쨰 고객 분포를 20단계까지 돌림 (기승전마르코프)\n",
    "for i in range(20):\n",
    "    people_distribution4 = np.dot(np.transpose(markov_section5), people_distribution4)\n",
    "    print(i, \" : \", people_distribution4)"
   ]
  },
  {
   "cell_type": "code",
   "execution_count": 6,
   "metadata": {
    "collapsed": false
   },
   "outputs": [],
   "source": [
    "# np에 있는 eigen 호출\n",
    "eigen = np.linalg.eig(np.transpose(markov_section5))"
   ]
  },
  {
   "cell_type": "code",
   "execution_count": 7,
   "metadata": {
    "collapsed": false
   },
   "outputs": [],
   "source": [
    "eigen_values = eigen[0]"
   ]
  },
  {
   "cell_type": "code",
   "execution_count": 8,
   "metadata": {
    "collapsed": false
   },
   "outputs": [
    {
     "name": "stdout",
     "output_type": "stream",
     "text": [
      "[ 1.00000000+0.j          0.39829356+0.09970561j  0.39829356-0.09970561j\n",
      "  0.10170644+0.06356689j  0.10170644-0.06356689j]\n"
     ]
    }
   ],
   "source": [
    "print(eigen_values)"
   ]
  },
  {
   "cell_type": "code",
   "execution_count": 9,
   "metadata": {
    "collapsed": false
   },
   "outputs": [],
   "source": [
    "eigen_vectors = eigen[1]\n",
    "first_eigen_vectors = eigen_vectors[0:5,0]"
   ]
  },
  {
   "cell_type": "code",
   "execution_count": 10,
   "metadata": {
    "collapsed": false
   },
   "outputs": [
    {
     "name": "stdout",
     "output_type": "stream",
     "text": [
      "[ 0.39850400+0.j  0.42008963+0.j  0.48244813+0.j  0.50698564+0.j\n",
      "  0.41824470+0.j]\n"
     ]
    }
   ],
   "source": [
    "print(first_eigen_vectors)"
   ]
  },
  {
   "cell_type": "code",
   "execution_count": 11,
   "metadata": {
    "collapsed": false
   },
   "outputs": [
    {
     "name": "stdout",
     "output_type": "stream",
     "text": [
      "[ 0.17900058+0.j  0.18869644+0.j  0.21670672+0.j  0.22772852+0.j\n",
      "  0.18786774+0.j]\n"
     ]
    }
   ],
   "source": [
    "# 이 값이 위에서 마르코프 체인을 수행한 값과 같다네요. 기승전마르코프가 아닌 기승전수학 ^^\n",
    "print(first_eigen_vectors/np.sum(first_eigen_vectors))"
   ]
  },
  {
   "cell_type": "code",
   "execution_count": null,
   "metadata": {
    "collapsed": true
   },
   "outputs": [],
   "source": []
  }
 ],
 "metadata": {
  "anaconda-cloud": {},
  "kernelspec": {
   "display_name": "Python [default]",
   "language": "python",
   "name": "python3"
  },
  "language_info": {
   "codemirror_mode": {
    "name": "ipython",
    "version": 3
   },
   "file_extension": ".py",
   "mimetype": "text/x-python",
   "name": "python",
   "nbconvert_exporter": "python",
   "pygments_lexer": "ipython3",
   "version": "3.5.2"
  }
 },
 "nbformat": 4,
 "nbformat_minor": 1
}
